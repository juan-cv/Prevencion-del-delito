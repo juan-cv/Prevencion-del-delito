{
  "cells": [
    {
      "cell_type": "markdown",
      "metadata": {
        "id": "view-in-github",
        "colab_type": "text"
      },
      "source": [
        "<a href=\"https://colab.research.google.com/github/juan-cv/Prevencion-del-delito/blob/main/Prevencion_Delictual.ipynb\" target=\"_parent\"><img src=\"https://colab.research.google.com/assets/colab-badge.svg\" alt=\"Open In Colab\"/></a>"
      ]
    },
    {
      "metadata": {
        "id": "jbMvWlUj0JKx"
      },
      "cell_type": "markdown",
      "source": [
        "# Prevencion de Delitos\n",
        "# Invetigacion Privada Chile\n",
        "Version English Spanish International Master's work in Data Science, (Europe). Pre Machine Learning Module\n",
        "\n",
        "Version ingles español trabajo de Master internacional en Data Science, Europa. Modulo Pre Machine Learning.\n",
        "\n",
        "**# Correctional offender management profiling for alternative sanctions\n",
        "\n",
        "The introduction of data science into the field of law and justice is becoming more and more frequent, a well-known example of this is the COMPAS (Correctional offender management profiling for alternative sanctions) system that is used in several states of the United States. to make an assessment of the risk of recidivism of detained persons\n",
        "__________________________________________\n",
        "\n",
        "Cada día es más frecuente la introducción de la ciencia de datos en el ámbito del derecho y la justicia.Un ejemplo bien conocido de ello es el sistema COMPAS (Correctional offender management profiling for alternative sanctions) que se usa en varios estados de los Estados Unidos para hacer una evaluación del riesgo de reincidencia de las personas detenidas\n",
        "\n",
        "\n"
      ]
    },
    {
      "metadata": {
        "trusted": true,
        "id": "tPn3XEYz0JLA"
      },
      "cell_type": "code",
      "source": [
        "import pandas as pd\n",
        "import numpy as np\n",
        "import seaborn as sns\n",
        "import matplotlib.pyplot as plt\n",
        "from sklearn.metrics import roc_auc_score\n",
        "pd.set_option('display.max_columns', 60) #Display 60 columns for better visualitation. \n",
        "from pandas.api.types import CategoricalDtype\n",
        "import warnings\n",
        "warnings.simplefilter(\"ignore\")"
      ],
      "execution_count": null,
      "outputs": []
    },
    {
      "metadata": {
        "trusted": true,
        "id": "416BDKkJ0JLD"
      },
      "cell_type": "code",
      "source": [
        "df = pd.read_csv('../input/compas-scores/compas-scores.csv')\n",
        "df = pd.DataFrame(df)"
      ],
      "execution_count": null,
      "outputs": []
    },
    {
      "metadata": {
        "id": "nmfRibyF0JLG"
      },
      "cell_type": "markdown",
      "source": [
        "### ¿What we will do in this notbook? \n",
        "### ¿Que se realizará en este notbook? \n",
        "1.-Load the data and carry out an exploratory analysis and an evaluation of the quality of the data necessary for the rest of the case. Specifically, evaluate the integrity, validity and timeliness of the data and propose mitigation strategies for the possible problems encountered.\n",
        "\n",
        "1.-Cargar los datos y realizar un análisis exploratorio y una evaluación de la calidad de los datos necesarios para el resto del caso. Específicamente, evaluar la integridad, validez y actualidad de los datos y proponer estrategias de mitigación de los posibles problemas encontrados."
      ]
    },
    {
      "metadata": {
        "id": "X-CErL0Z0JLH"
      },
      "cell_type": "markdown",
      "source": [
        "## Exploratory analisis"
      ]
    },
    {
      "metadata": {
        "trusted": true,
        "id": "CI2Avm7z0JLI"
      },
      "cell_type": "code",
      "source": [
        "df.head(4)"
      ],
      "execution_count": null,
      "outputs": []
    },
    {
      "metadata": {
        "trusted": false,
        "id": "05nQ-mNR0JLJ"
      },
      "cell_type": "code",
      "source": [
        "df.info()"
      ],
      "execution_count": null,
      "outputs": []
    },
    {
      "metadata": {
        "trusted": false,
        "id": "dw2JsoaF0JLK"
      },
      "cell_type": "code",
      "source": [
        "#'num_vr_cases', 'num_r_cases', son columnas completamente vacias que se deben eliminar\n",
        "#Empty columns\n",
        "df = df.drop(['num_vr_cases', 'num_r_cases'], axis =1)"
      ],
      "execution_count": null,
      "outputs": []
    },
    {
      "metadata": {
        "trusted": false,
        "id": "StWTEaLQ0JLL"
      },
      "cell_type": "code",
      "source": [
        "#Selection of Columns that will be useful to find the desired insights \n",
        "#Seleccion de Columnas que seran de utilidad para encontrar los insights buscados\n",
        "\n",
        "df1 = df[['id', 'name', 'sex', 'age', 'age_cat', 'is_recid', 'is_violent_recid','decile_score', 'v_decile_score', 'vr_offense_date', \n",
        "'r_offense_date', 'race', 'score_text', 'v_score_text', 'priors_count', 'compas_screening_date']].copy()"
      ],
      "execution_count": null,
      "outputs": []
    },
    {
      "metadata": {
        "trusted": false,
        "id": "N88ed3ZK0JLN"
      },
      "cell_type": "code",
      "source": [
        "df1.head(3)"
      ],
      "execution_count": null,
      "outputs": []
    },
    {
      "metadata": {
        "id": "9_St3HJW0JLO"
      },
      "cell_type": "markdown",
      "source": [
        "### I will analyze column by column integrity, validity and timeliness\n",
        "### Analizaré columna por columna integridad, validez y actualidad"
      ]
    },
    {
      "metadata": {
        "trusted": false,
        "id": "iMOlnVZD0JLO"
      },
      "cell_type": "code",
      "source": [
        "def describe_columna(df, col):\n",
        "    print(f'Columna: {col}  -  Tipo de datos: {df[col].dtype}')\n",
        "    print(f'Número de valores nulos: {df[col].isnull().sum()}  -  Número de valores distintos: {df[col].nunique()}')\n",
        "    print('Valores más frecuentes:')\n",
        "    for i, v in df[col].value_counts().iloc[:10].items() :\n",
        "        print(i, '\\t', v)"
      ],
      "execution_count": null,
      "outputs": []
    },
    {
      "metadata": {
        "trusted": false,
        "id": "AMTQSkiR0JLQ"
      },
      "cell_type": "code",
      "source": [
        "describe_columna(df1, 'id')\n",
        "#Columna se encuentra completa, con solo valores unicos, utilizables como indices e identificadores."
      ],
      "execution_count": null,
      "outputs": []
    },
    {
      "metadata": {
        "trusted": false,
        "id": "GaLxIohc0JLR"
      },
      "cell_type": "code",
      "source": [
        "describe_columna(df1, 'name')"
      ],
      "execution_count": null,
      "outputs": []
    },
    {
      "metadata": {
        "id": "i34vDiOw0JLR"
      },
      "cell_type": "markdown",
      "source": [
        "There are a series of possibly duplicate values so I must check if it is just a coincidence\n",
        "names or it could mean a problem.\n",
        "According to what was observed, there would be no duplication in the names. It is important to mention the case of Alejandro Cabrebra, who could be a repeated case, but it is a second evaluation of COMPAS According to the date\n",
        "\n",
        "Existen una serie de valores posiblemente duplicados por lo que debo revisar si es solo coincidencia \n",
        "de nombres o podria significar un problema.\n",
        "De acuerdo a lo observado no existiría duplicidad en los nombres. Importante mencionar el caso de Alejandro Cabrebra quien si podria resultar un caso repetido, pero se trata de una segunda evaluacion de COMPAS Segun la fecha"
      ]
    },
    {
      "metadata": {
        "trusted": false,
        "id": "XrB4ld030JLS"
      },
      "cell_type": "code",
      "source": [
        "df1[df1.name.duplicated(keep = False)].sort_values(by = 'name')"
      ],
      "execution_count": null,
      "outputs": []
    },
    {
      "metadata": {
        "trusted": false,
        "id": "AnINvgfV0JLU"
      },
      "cell_type": "code",
      "source": [
        "describe_columna(df1, 'sex')\n",
        "# Columna integra, valida y sin nulos."
      ],
      "execution_count": null,
      "outputs": []
    },
    {
      "metadata": {
        "trusted": false,
        "id": "MJ6nfqfr0JLV"
      },
      "cell_type": "code",
      "source": [
        "print(describe_columna(df1, 'age'))\n",
        "print(df1.age.min() )\n",
        "print(df1.age.max()) "
      ],
      "execution_count": null,
      "outputs": []
    },
    {
      "metadata": {
        "id": "cT3MXgS80JLW"
      },
      "cell_type": "markdown",
      "source": [
        "#### values between the ranges of 18 and 96 years, without null values ​​so it is also an integral and valid column.\n",
        "#### valores entre los rangos de 18 y 96 años, sin valores nulos por lo que tambien es una columna integra y valida."
      ]
    },
    {
      "metadata": {
        "trusted": false,
        "id": "QxLD2syA0JLb"
      },
      "cell_type": "code",
      "source": [
        "print(describe_columna(df1, 'age_cat'))\n",
        "# Columna sin valores nulos, integra y valida."
      ],
      "execution_count": null,
      "outputs": []
    },
    {
      "metadata": {
        "trusted": false,
        "id": "uoqUweqt0JLc"
      },
      "cell_type": "code",
      "source": [
        "print(describe_columna(df1, 'is_recid'))"
      ],
      "execution_count": null,
      "outputs": []
    },
    {
      "metadata": {
        "trusted": false,
        "id": "P3Zsmuxm0JLc"
      },
      "cell_type": "code",
      "source": [
        "#Esos 719 valores sin antecedentes de reincidencia se deben eliminar\n",
        "df1 = df1.drop(df1[df1['is_recid']==-1].index)"
      ],
      "execution_count": null,
      "outputs": []
    },
    {
      "metadata": {
        "trusted": false,
        "id": "eCEdcQK90JLd"
      },
      "cell_type": "code",
      "source": [
        "print(describe_columna(df1, 'is_recid')) "
      ],
      "execution_count": null,
      "outputs": []
    },
    {
      "metadata": {
        "trusted": false,
        "id": "-W2rjwtM0JLe"
      },
      "cell_type": "code",
      "source": [
        "# Transform the columns that should be categorical\n",
        "# Transformar a categoricos las columnas que deberian serlo\n",
        "\n",
        "for col in ['sex', 'age_cat']:\n",
        "    df1[col] = df1[col].astype('category')\n",
        "   # 'decile_score', 'v_decile_score''is_recid', 'is_violent_recid',"
      ],
      "execution_count": null,
      "outputs": []
    },
    {
      "metadata": {
        "trusted": false,
        "id": "Fntig8_R0JLe"
      },
      "cell_type": "code",
      "source": [
        "print(describe_columna(df1, 'is_violent_recid'))\n",
        "#COlumna integra y valida"
      ],
      "execution_count": null,
      "outputs": []
    },
    {
      "metadata": {
        "trusted": false,
        "id": "qPrno6wE0JLf"
      },
      "cell_type": "code",
      "source": [
        "print(describe_columna(df1, 'decile_score'))\n",
        "#Columna integra y valida sin valores nulos"
      ],
      "execution_count": null,
      "outputs": []
    },
    {
      "metadata": {
        "trusted": false,
        "id": "kh4HxS_T0JLf"
      },
      "cell_type": "code",
      "source": [
        "print(describe_columna(df1, 'v_decile_score'))\n",
        "#Columna integra y valida sin valores nulos"
      ],
      "execution_count": null,
      "outputs": []
    },
    {
      "metadata": {
        "trusted": false,
        "id": "detwpax00JLg"
      },
      "cell_type": "code",
      "source": [
        "print(describe_columna(df1, 'r_offense_date'))\n",
        "# 3703 filas con informacion las cuales cuadran perfectamente con la cantidad de casos reincidentes\n",
        "#que son 3703"
      ],
      "execution_count": null,
      "outputs": []
    },
    {
      "metadata": {
        "trusted": false,
        "id": "idKk29xS0JLh"
      },
      "cell_type": "code",
      "source": [
        "#Tranformar to Date Time r_offense_date y vr_offense_date\n",
        "df1.r_offense_date = pd.to_datetime(df1.r_offense_date, format=\"%Y-%m-%d\")\n",
        "df1.vr_offense_date = pd.to_datetime(df1.vr_offense_date, format=\"%Y-%m-%d\")"
      ],
      "execution_count": null,
      "outputs": []
    },
    {
      "metadata": {
        "trusted": false,
        "id": "DW4M1uaQ0JLh"
      },
      "cell_type": "code",
      "source": [
        "print(describe_columna(df1, 'vr_offense_date'))"
      ],
      "execution_count": null,
      "outputs": []
    },
    {
      "metadata": {
        "id": "kCq5cYrc0JLi"
      },
      "cell_type": "markdown",
      "source": [
        "882 cases also coincide with the number of people marked as violent repeat offenders in\n",
        "column \"is_violent_recid, but must be formatted as date.\n",
        "\n",
        "882 casos tambien coincidentes con el numero de personas marcadas como reincidentes violentos en \n",
        "la columna \" is_violent_recid, pero se debe dar formato de fecha."
      ]
    },
    {
      "metadata": {
        "trusted": false,
        "id": "f7pUtMmE0JLj"
      },
      "cell_type": "code",
      "source": [
        "#Column complete, complete and valid. It transforms to Date Time\n",
        "#Columna completa, integta y valida. Se tranforma a Date Time\n",
        "\n",
        "df1.compas_screening_date = pd.to_datetime(df1.compas_screening_date, format=\"%Y-%m-%d\")\n",
        "\n",
        "print(describe_columna(df1, 'compas_screening_date'))"
      ],
      "execution_count": null,
      "outputs": []
    },
    {
      "metadata": {
        "id": "bZeo39fH0JLk"
      },
      "cell_type": "markdown",
      "source": [
        "### Analisis de las fechas de nuestro DF"
      ]
    },
    {
      "metadata": {
        "trusted": false,
        "id": "WRaNjbIw0JLl"
      },
      "cell_type": "code",
      "source": [
        "# Min and max dates of our dataframe to determine how to use them\n",
        "#Fechas min y max de nuestro dataframe para determinar como utilizarlas\n",
        "\n",
        "rod = df1.r_offense_date.min(), df1.r_offense_date.max()\n",
        "vrod = df1.vr_offense_date.min(), df1.vr_offense_date.max()\n",
        "csd = df1.compas_screening_date.min(), df1.compas_screening_date.max()\n",
        "print('r_offense_date \\n', {rod})\n",
        "print('vr_offense_date \\n', {vrod})\n",
        "print('compas_screening_date \\n', {csd})"
      ],
      "execution_count": null,
      "outputs": []
    },
    {
      "metadata": {
        "id": "jlQRIClZ0JLm"
      },
      "cell_type": "markdown",
      "source": [
        "## 2.- Are the “is_recid” and “is_violent_recid” fields in this data set adequate to evaluate the precision of the risk estimates generated by the COMPAS system? If not, define and calculate a feature that is.\n",
        "\n",
        "## 2.- ¿Son los campos “is_recid” e “is_violent_recid” en este conjunto de datos adecuados para evaluar la precisión de las estimaciones de riesgo generadas por el sistema COMPAS? Si no es así, definir y calcular una feature que sí lo sea."
      ]
    },
    {
      "metadata": {
        "trusted": false,
        "id": "y90rLLlx0JLm"
      },
      "cell_type": "code",
      "source": [
        "#Distribución de decile score segun puntaje.\n",
        "test = df1.groupby('decile_score')['id'].count()\n",
        "print(test)"
      ],
      "execution_count": null,
      "outputs": []
    },
    {
      "metadata": {
        "trusted": false,
        "id": "tEj82Epq0JLn"
      },
      "cell_type": "code",
      "source": [
        "violent = df1[df1.is_violent_recid == 1]"
      ],
      "execution_count": null,
      "outputs": []
    },
    {
      "metadata": {
        "trusted": false,
        "id": "7k5AL1pl0JLn"
      },
      "cell_type": "code",
      "source": [
        "violent.groupby('decile_score')['id'].count()"
      ],
      "execution_count": null,
      "outputs": []
    },
    {
      "metadata": {
        "trusted": false,
        "id": "hW5sARiv0JLo"
      },
      "cell_type": "code",
      "source": [
        "#Pearson correlation between numerical variables.\n",
        "#Correlacion Pearson entre variables numericas.\n",
        "\n",
        "correlation = df1.corr()\n",
        "f, ax = plt.subplots(figsize=(4,4))\n",
        "plt.title('Correlation of numerical attributes', size=10)\n",
        "sns.heatmap(correlation)\n",
        "plt.show()"
      ],
      "execution_count": null,
      "outputs": []
    },
    {
      "metadata": {
        "trusted": false,
        "id": "SDPl4Cno0JLo"
      },
      "cell_type": "code",
      "source": [
        "correlation['v_decile_score'].sort_values(ascending=False).head(10)"
      ],
      "execution_count": null,
      "outputs": []
    },
    {
      "metadata": {
        "trusted": false,
        "id": "xPgZwB_10JLp"
      },
      "cell_type": "code",
      "source": [
        "correlation['decile_score'].sort_values(ascending=False).head(10)"
      ],
      "execution_count": null,
      "outputs": []
    },
    {
      "metadata": {
        "id": "T4f-eoqD0JLp"
      },
      "cell_type": "markdown",
      "source": [
        "From this pearson correlation we can see that is_recid, is_violent_recid together provide an approximation of 40% correlation with the 'Target' But it is not enough, so a two-year date range conditional will be added to calculate the recurrences\n",
        "__________________\n",
        "De esta correlacion de pearson podemos ver que is_recid, is_violent_recid en conjunto proveen una aproximacion del 40% de correlacion con el 'Target' Pero no es suficiente, por lo que se agregara un condicional de rango de fecha de dos años para calcular las reincidencias"
      ]
    },
    {
      "metadata": {
        "trusted": false,
        "id": "_pqZKM1Z0JLp"
      },
      "cell_type": "code",
      "source": [
        "df1.shape"
      ],
      "execution_count": null,
      "outputs": []
    },
    {
      "metadata": {
        "trusted": false,
        "id": "feOXtY0A0JLq"
      },
      "cell_type": "code",
      "source": [
        "#A variable is created with the date that will be filtered in the DF\n",
        "#Se crea variable con la fecha que se filtrara en el DF\n",
        "from datetime import datetime\n",
        "fecha = '2014:01:01'\n",
        "fecha_limite = datetime.strptime(fecha, '%Y:%M:%S')"
      ],
      "execution_count": null,
      "outputs": []
    },
    {
      "metadata": {
        "id": "ENe_9WIV0JLq"
      },
      "cell_type": "markdown",
      "source": [
        "Creation of the manual model with which we will seek to answer the questions. It is important to mention that this is what was used some years ago before Machine Learning, creating artificial features. Today, thanks to ML models, significantly higher results can be obtained. The importance of this is to explain and understand the workings behind a ML model.\n",
        "\n",
        "Creación del modelo manual con el cual se buscará dar respuesta a las preguntas. Importante mencionar que esto es lo que hace alguno años se utilizaba antes del Machine Learning, creando features artificales. Actualmente gracias a los modelos de ML se pueden obtener resultados significativamente mayores. La importancia de esto es explicar y entender el funcionamiento detras de un modelo de ML."
      ]
    },
    {
      "metadata": {
        "trusted": false,
        "id": "355iEI8h0JLr"
      },
      "cell_type": "code",
      "source": [
        "def modelo1(caso):\n",
        "    if  caso['is_violent_recid'] == 1 and caso['race'] == ('African-American') and caso['vr_offense_date'] > fecha_limite and caso['age_cat'=='Less than 25']:\n",
        "        return 1\n",
        "    else:\n",
        "        return 0"
      ],
      "execution_count": null,
      "outputs": []
    },
    {
      "metadata": {
        "trusted": false,
        "id": "UUbrwuNh0JLr"
      },
      "cell_type": "code",
      "source": [
        "score1 = df1.apply(lambda x: modelo1(x), axis = 1)"
      ],
      "execution_count": null,
      "outputs": []
    },
    {
      "metadata": {
        "id": "Vxb2bRZ60JLs"
      },
      "cell_type": "markdown",
      "source": [
        "Verification of the effectiveness of our model. Quite low as expected.\n",
        "Verificacion de la efectividad de nuestro modelo. Bastante bajo como era de esperarse. "
      ]
    },
    {
      "metadata": {
        "trusted": false,
        "id": "1dJAOvdZ0JLs"
      },
      "cell_type": "code",
      "source": [
        "roc_auc_score((df1['v_score_text'] == 'High'), score1)"
      ],
      "execution_count": null,
      "outputs": []
    },
    {
      "metadata": {
        "id": "_5-mPOug0JLt"
      },
      "cell_type": "markdown",
      "source": [
        "### 3.- The threshold to establish preventive measures for recidivism is 7 or more.\n",
        "Given this threshold, generate a contingency table, explaining which case is considered \"positive\" (and, therefore, what are the type I errors and the type II errors).\n",
        "\n",
        "### 3.- El umbral para establecer medidas preventivas de la reincidencia es de 7 en adelante.\n",
        "Dado este umbral, generar una tabla de contingencia, explicando qué caso se considera como “positivo” (y, por lo tanto, cuáles son los errores de tipo I y los errores de tipo II)."
      ]
    },
    {
      "metadata": {
        "trusted": false,
        "id": "JXroEwVz0JLt"
      },
      "cell_type": "code",
      "source": [
        "tc = pd.crosstab(score1, (df1['v_decile_score'] >= 7))\n",
        "tc"
      ],
      "execution_count": null,
      "outputs": []
    },
    {
      "metadata": {
        "trusted": false,
        "id": "-iZURfFy0JLu"
      },
      "cell_type": "code",
      "source": [
        "#Calcular prediccion de la feature para IS_RECID\n",
        "#Predictions for IS_recid\n",
        "def modelo2(caso):\n",
        "    if  caso['is_recid'] == 1 or caso['is_violent_recid'] == 1 and caso['r_offense_date'] > fecha_limite and caso['age_cat'=='Less than 25'] and caso['sex'] == 'Male':\n",
        "        return 1\n",
        "    else:\n",
        "        return 0"
      ],
      "execution_count": null,
      "outputs": []
    },
    {
      "metadata": {
        "trusted": false,
        "id": "QC9sRyLk0JLv"
      },
      "cell_type": "code",
      "source": [
        "score2 = df1.apply(lambda x: modelo2(x), axis = 1).rename('Predicción')"
      ],
      "execution_count": null,
      "outputs": []
    },
    {
      "metadata": {
        "trusted": false,
        "id": "4IPQb0OY0JLv"
      },
      "cell_type": "code",
      "source": [
        "roc_auc_score((df1['decile_score'] >= 7), score2)\n",
        "\n",
        "#Feature que nos entrega un valor de aciertos cercano al 61%. "
      ],
      "execution_count": null,
      "outputs": []
    },
    {
      "metadata": {
        "trusted": false,
        "id": "v6uL28Ua0JLw"
      },
      "cell_type": "code",
      "source": [
        "tc1 = pd.crosstab(score2, (df1['decile_score'] >= 7))\n",
        "tc1"
      ],
      "execution_count": null,
      "outputs": []
    },
    {
      "metadata": {
        "id": "eJ4cVR-f0JLx"
      },
      "cell_type": "markdown",
      "source": [
        "As can be seen in the upper contingency table, type I errors correspond to false positives in the upper right corner.\n",
        "where 1458 people are considered according to the prediction as not possible\n",
        "Repeat offenders do but actually have a Decile_Score> = 7.\n",
        "Type II errors correspond to the lower left corner (2200 cases) where our prediction gives results of possible repeat offenders (> = 7) but in reality they are with a decile_score <7. False negatives.\n",
        "\n",
        "Como se puede apreciar en la tabla de contigencia superior los errores de tipo I corresponden a los falsos positivos de la esquina superior derecha\n",
        "en donde 1458 personas se consideran segun la predicción como no posibles \n",
        "reincidentes te pero en realidad tienen un Decile_Score >= 7.\n",
        "Los errores de tipo II corresponden a la esquina inferior izquierda (2200 casos) en donde nuestra predicción entrega resultados de posibles reincidentes (>=7) pero en realidad estan con un decile_score <7. Falsos negativos."
      ]
    },
    {
      "metadata": {
        "id": "ZqFFgQKE0JLx"
      },
      "cell_type": "markdown",
      "source": [
        "## 4.- Graph the differences according to factors of race, sex and age\n",
        "## 4.- Graficar las diferencias de acuerdos a factores de raza, sexo y edad "
      ]
    },
    {
      "metadata": {
        "trusted": false,
        "id": "heyyh8zw0JLy"
      },
      "cell_type": "code",
      "source": [
        "#Decile_score and v_decile_score -1 values are removed to plot\n",
        "#Se eliminan valores -1 de decile_score y v_decile_score para graficar\n",
        "df1 = df1.drop(df1[df1['v_decile_score']==-1].index)\n",
        "df1 = df1.drop(df1[df1['decile_score']==-1].index)\n"
      ],
      "execution_count": null,
      "outputs": []
    },
    {
      "metadata": {
        "trusted": false,
        "id": "5udfukt10JLy"
      },
      "cell_type": "code",
      "source": [
        "\n",
        "#RACE\n",
        "dfgb = df1.groupby(\"race\")\n",
        "race_count = df1.groupby(\"race\")[\"name\"].count()\n",
        "\n",
        "fig, ax = plt.subplots(3, figsize=(14, 8))\n",
        "\n",
        "for (i, race) in enumerate([\"African-American\", \"Caucasian\", \"Hispanic\"]):\n",
        "    (\n",
        "        (dfgb\n",
        "            .get_group(race)\n",
        "            .groupby(\"decile_score\")[\"name\"].count() / race_count[race]\n",
        "        )\n",
        "        .plot(kind=\"bar\", ax=ax[i], color=\"#353535\")\n",
        "    )\n",
        "    ax[i].set_ylabel(race)\n",
        "    ax[i].set_xlabel(\"\")\n",
        "   \n",
        "    ax[i].set_ylim(0, 0.32)\n",
        "\n",
        "fig.suptitle(\"Score Frequency by Race\")\n",
        "plt.show()"
      ],
      "execution_count": null,
      "outputs": []
    },
    {
      "metadata": {
        "id": "C0Uai3zI0JLz"
      },
      "cell_type": "markdown",
      "source": [
        "#### As can be seen in the graph, the distribution in the decile score of black people is uniformly distributed from 1 to 10, while for the other races, the vast majority of cases are in the lower values of the decile_score.\n",
        "\n",
        "#### Como se puede ver en el gráfico, la distribucion en el decile score de las personas de raza negra se encuentra uniformemente distribuida del 1 al 10, Mientras que para las demas razas, la gran mayoría de los casos se encuentran en los valores mas bajos del decile_score."
      ]
    },
    {
      "metadata": {
        "trusted": false,
        "id": "rUvQm7iy0JLz"
      },
      "cell_type": "code",
      "source": [
        "#Sex\n",
        "dfgb = df1.groupby(\"sex\")\n",
        "race_count = df1.groupby(\"sex\")[\"name\"].count()\n",
        "\n",
        "fig, ax = plt.subplots(2, figsize=(14, 8))\n",
        "\n",
        "for (i, sex) in enumerate([\"Male\", \"Female\"]):\n",
        "    (\n",
        "        (dfgb\n",
        "            .get_group(sex)\n",
        "            .groupby(\"decile_score\")[\"name\"].count() \n",
        "         #/ race_count[race]\n",
        "        )\n",
        "        .plot(kind=\"bar\", ax=ax[i], color=\"#353535\")\n",
        "    )\n",
        "    ax[i].set_ylabel(sex)\n",
        "    ax[i].set_xlabel(\"\")\n",
        "   \n",
        " #   ax[i].set_ylim(0, 0.)\n",
        "\n",
        "fig.suptitle(\"Score Frequency by Race\")\n",
        "plt.show()"
      ],
      "execution_count": null,
      "outputs": []
    },
    {
      "metadata": {
        "id": "zYB4ILPd0JL0"
      },
      "cell_type": "markdown",
      "source": [
        "In the case of the differences for men and women, a tendency can be observed in the graph that fewer women are at the top of the decile_score than men.\n",
        "\n",
        "Para el caso de las diferencias para hombres y mujeres se puede observar en la gráfica una tendencia a que menos mujeres estan en lo mas alto del decile_score a diferencia de los hombres. "
      ]
    },
    {
      "metadata": {
        "trusted": false,
        "id": "kPtCqGvC0JL0"
      },
      "cell_type": "code",
      "source": [
        "#Age\n",
        "dfgb = df1.groupby(\"age_cat\")\n",
        "race_count = df1.groupby(\"age_cat\")[\"name\"].count()\n",
        "\n",
        "fig, ax = plt.subplots(3, figsize=(14, 8))\n",
        "\n",
        "for (i, age_cat) in enumerate([\"Less than 25\", \"25 - 45\", \"Greater than 45\"]):\n",
        "    (\n",
        "        (dfgb\n",
        "            .get_group(age_cat)\n",
        "            .groupby(\"decile_score\")[\"name\"].count() \n",
        "        )\n",
        "        .plot(kind=\"bar\", ax=ax[i], color=\"#353535\")\n",
        "    )\n",
        "    ax[i].set_ylabel(age_cat)\n",
        "    ax[i].set_xlabel(\"\")\n",
        "   \n",
        " #   ax[i].set_ylim(0, 0.)\n",
        "\n",
        "fig.suptitle(\"Score Frequency by age category\")\n",
        "plt.show()"
      ],
      "execution_count": null,
      "outputs": []
    },
    {
      "metadata": {
        "id": "RuJvYFSB0JL1"
      },
      "cell_type": "markdown",
      "source": [
        "Finally, when analyzing the graphs for age, large differences can be seen between the 3 age groups plotted, where those under 25 years of age have a distribution that is highly oriented towards the highest indices, rather than differences from the older age group.\n",
        "\n",
        "Finalmente al analisis de los graficos para edad, se pueden ver grandes diferencias entre los 3 grupos etarios graficados en donde los menores de 25 años tienen una distribución muy orientada hacia los indices mas alto a diferencias del grupo de mayor edad. "
      ]
    },
    {
      "metadata": {
        "id": "q_hk8DOQ0JL5"
      },
      "cell_type": "markdown",
      "source": [
        "5.- ¿Para qué tipo de riesgos, el de delitos generales o el de delitos violentos, tiene el sistema más capacidad predictiva?\n",
        "5.- For what types of risks, general crimes or violent crimes, does the system have the most predictive capacity?"
      ]
    },
    {
      "metadata": {
        "id": "kMyP4rBq0JL5"
      },
      "cell_type": "markdown",
      "source": [
        "According to the Feature created, both for is_recid and for is_violent recid the results are close to 54% correct. However, when using both columns of information (is_recid == 1 and is_violent_recid == 1) it is possible to obtain a value close to 60%, so it could be assumed that both data have a similar predictive power ///\n",
        "\n",
        "\n",
        "De acuerdo a la Feature creada, tanto para is_recid, como para is_violent recid los resultados son cercanos al 54% de acierto. Sin embargo al utilizar ambas columans de informacion (is_recid == 1 and is_violent_recid == 1) se logta obtener un valor cercano al 60% por lo que podria asumir que ambas datas poseen un poder predictivo similar///"
      ]
    }
  ],
  "metadata": {
    "kernelspec": {
      "name": "python3",
      "display_name": "Python 3",
      "language": "python"
    },
    "language_info": {
      "name": "python",
      "version": "3.7.6",
      "mimetype": "text/x-python",
      "codemirror_mode": {
        "name": "ipython",
        "version": 3
      },
      "pygments_lexer": "ipython3",
      "nbconvert_exporter": "python",
      "file_extension": ".py"
    },
    "colab": {
      "provenance": [],
      "include_colab_link": true
    }
  },
  "nbformat": 4,
  "nbformat_minor": 0
}